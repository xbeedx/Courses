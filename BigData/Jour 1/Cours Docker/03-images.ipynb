{
 "cells": [
  {
   "cell_type": "markdown",
   "metadata": {
    "id": "7HaRNN8On3NY"
   },
   "source": [
    "# Images\n",
    "\n",
    "A **Docker image** is a read-only template that contains a set of instructions for creating a **container** that can run on the **Docker** platform. It provides a convenient way to package up applications **and** preconfigured server environments, which you can use for your own private use or share publicly with other **Docker** users.\n",
    "\n",
    "Here is the summary.\n",
    "\n",
    "- Layers\n",
    "\n",
    "- Dockerfile\n",
    "\n",
    "- Build an image\n",
    "\n",
    "- Multistage\n",
    "\n",
    "- Cache memory\n",
    "\n",
    "- Build context\n",
    "\n",
    "- Deploy/share an image\n",
    "\n",
    "- Useful options\n",
    "\n",
    "## Layers\n",
    "\n",
    "Docker containers are building blocks for applications. Each container is an image with a readable/writeable layer on top of a bunch of read-only layers.\n",
    "\n",
    "For example, here is a Dockerfile for creating a node js web app image. It shows the commands that are executed to create the image."
   ]
  },
  {
   "cell_type": "code",
   "execution_count": null,
   "metadata": {
    "id": "Y7UwRALzn3Ng"
   },
   "outputs": [],
   "source": [
    "%%bash\n",
    "FROM node:latest\n",
    "# Create app directory\n",
    "RUN mkdir -p /usr/src/app\n",
    "WORKDIR /usr/src/app\n",
    "# Install app dependencies\n",
    "COPY package.json /usr/src/app/\n",
    "RUN npm install\n",
    "# Bundle app source\n",
    "COPY . /usr/src/app\n",
    "EXPOSE 8080\n",
    "CMD [ \"npm\", \"start\" ]"
   ]
  },
  {
   "cell_type": "markdown",
   "metadata": {
    "id": "MySDKmDcn3Ni"
   },
   "source": [
    "Each order creates a new layer. When an image is instantiated into a container, Docker adds an additional read and write layer to allow the application to make changes in the file system.\n",
    "\n",
    "<img src=\"file:///home/pth/Documents/malt/LEAD_PROGRAM/M04-DevOps/D03-Standardize_your_environment_with_Docker/00-Lectures/container-layers.jpg\" title=\"\" alt=\"container-layers.jpg\" data-align=\"center\">\n",
    "\n",
    "## Dockerfile\n",
    "\n",
    "Docker can build images by reading the instructions from a `Dockerfile`. A `Dockerfile` is a text document that contains all the commands a user could call on the command line to assemble an image. Using `docker build` users can create an automated build that executes several command-line instructions in succession.\n",
    "\n",
    "Here is the list of instructions for a Dockerfile :"
   ]
  },
  {
   "cell_type": "code",
   "execution_count": null,
   "metadata": {
    "id": "YWmZVNyZn3Nj"
   },
   "outputs": [],
   "source": [
    "FROM # To choose the image on which to base your choice, always go first.\n",
    "RUN # Executes a command\n",
    "CMD # Command executed when the default container is started.\n",
    "EXPOSE # Opens a port\n",
    "ENV # Allows you to edit environment variables\n",
    "ARG # Sort of like ENV, but only for the time it takes to build up the image.\n",
    "COPY # Copies a file or directory from the host to the image.\n",
    "ADD # Allows you to copy a file from the host or from a URL to the image, also allows you to decompress a tar archive.\n",
    "LABEL # Useful metadata for certain container management software, such as rancher or swarm, or simply to put information on the image.\n",
    "ENTRYPOINT # Command executed at container startup, cannot be modified, used to package a command.\n",
    "VOLUME # Creates a specific partition\n",
    "WORKDIR # Allows you to choose the working directory\n",
    "USER # Selects the user at the start of the ENTRYPOINT or CMD command.\n",
    "ONBUILD # Creates a step that will be executed only if our image is chosen as the base.\n",
    "HEALTHCHECK # Allows you to add a command to check the operation of your container\n",
    "STOPSIGNAL # Selects the [signal](http://man7.org/linux/man-pages/man7/signal.7.html) that will be sent to the container when the container is empty."
   ]
  },
  {
   "cell_type": "markdown",
   "metadata": {
    "id": "GO_Bn3Rpn3Nk"
   },
   "source": [
    "In the following, we will put these intructions into practice.\n",
    "\n",
    "## Build an image\n",
    "\n",
    "The dockerfile is a recipe for images, using this command, your computer will follow the recipe to create your custom image."
   ]
  },
  {
   "cell_type": "code",
   "execution_count": null,
   "metadata": {
    "id": "fosi-tNFn3Nk"
   },
   "outputs": [],
   "source": [
    "%%bash\n",
    "docker image build -t [imagename]:[tag] [dockerfile folder]"
   ]
  },
  {
   "cell_type": "markdown",
   "metadata": {
    "id": "AUF1ZfOLn3Nl"
   },
   "source": [
    "The tag makes it possible to distinguish the versions of an image. *0.1* or *beta* are valid tags.\n",
    "\n",
    "Following an example together easy."
   ]
  },
  {
   "cell_type": "code",
   "execution_count": null,
   "metadata": {
    "attributes": {
     "classes": [
      "dockerfile"
     ],
     "id": ""
    },
    "id": "3N2vyeuOn3Nl"
   },
   "outputs": [],
   "source": [
    "FROM alpine:latest\n",
    "RUN apk update\n",
    "RUN apk add python3"
   ]
  },
  {
   "cell_type": "markdown",
   "metadata": {
    "id": "yw2ZAGIUn3Nm"
   },
   "source": [
    "1. We base the image on a very light distribution of linux : *alpine*\n",
    "\n",
    "2. Update the index of available packages\n",
    "\n",
    "3. Install python3"
   ]
  },
  {
   "cell_type": "code",
   "execution_count": null,
   "metadata": {
    "id": "x-OM7WfKn3Nn"
   },
   "outputs": [],
   "source": [
    "%%bash\n",
    "docker build -t alpinepython:alpha ."
   ]
  },
  {
   "cell_type": "markdown",
   "metadata": {
    "id": "48AS6My9n3Nn"
   },
   "source": [
    "1. the name of the image will be \"alpinepython\"\n",
    "\n",
    "2. The **.** means that the dockerfile is present in the current folder.\n",
    "\n",
    "Let's test the creation of our image."
   ]
  },
  {
   "cell_type": "code",
   "execution_count": null,
   "metadata": {
    "id": "lRhsWToCn3Nn"
   },
   "outputs": [],
   "source": [
    "%%bash\n",
    "docker container run -it alpinepython:alpha python3"
   ]
  },
  {
   "cell_type": "markdown",
   "metadata": {
    "id": "FTodbLi0n3No"
   },
   "source": [
    "1. The image is launched using its name and tag.\n",
    "\n",
    "2. We launch *python3* when the container is started. \n",
    "\n",
    "3. Request to open an interactive terminal \n",
    "\n",
    "Here are the results :"
   ]
  },
  {
   "cell_type": "code",
   "execution_count": null,
   "metadata": {
    "id": "Hd8RDOiHn3No"
   },
   "outputs": [],
   "source": [
    "Python 3.8.5 (default, Jul 20 2020, 23:11:29) \n",
    "[GCC 9.3.0] on linux\n",
    "Type \"help\", \"copyright\", \"credits\" or \"license\" for more information.\n",
    ">>> 2+2\n",
    "4"
   ]
  },
  {
   "cell_type": "markdown",
   "metadata": {
    "id": "b4yZGmJ-n3No"
   },
   "source": [
    "You are ready to do exercise 3.\n",
    "\n",
    "## Multistage\n",
    "\n",
    "In this section we will see how to optimise our docker images. We will learn how to create smaller images by separating the build environment from the runtime environment.\n",
    "\n",
    "To demonstrate the difference between the build environment and the runtime environment, we will use a hello world program written in Java. The following command create `HelloWorld.java` which we will use throughout this tutorial:"
   ]
  },
  {
   "cell_type": "code",
   "execution_count": null,
   "metadata": {
    "id": "gxUPIn1en3Np"
   },
   "outputs": [],
   "source": [
    "%%bash\n",
    "cat >HelloWorld.java <<EOF\n",
    "class HelloWorld {\n",
    "    public static void main(String[] a) {\n",
    "        System.out.println(\"Hello world!\");\n",
    "    }\n",
    "}\n",
    "EOF"
   ]
  },
  {
   "cell_type": "markdown",
   "metadata": {
    "id": "kW_MGUufn3Np"
   },
   "source": [
    "The straight forward way of building and packaging the Java program is by using the Java Development Kit (JDK). Consider the following `Dockerfile`:"
   ]
  },
  {
   "cell_type": "code",
   "execution_count": null,
   "metadata": {
    "id": "tv-Txz93n3Np"
   },
   "outputs": [],
   "source": [
    "%%bash\n",
    "cat >Dockerfile <<EOF\n",
    "FROM openjdk:11-jdk\n",
    "COPY HelloWorld.java .\n",
    "RUN javac HelloWorld.java\n",
    "CMD java HelloWorld\n",
    "EOF"
   ]
  },
  {
   "cell_type": "markdown",
   "metadata": {
    "id": "uS02xdv9n3Nq"
   },
   "source": [
    "When building it, the resulting image will contain the JDK, the source code and the compiled hello world program:"
   ]
  },
  {
   "cell_type": "code",
   "execution_count": null,
   "metadata": {
    "id": "1OemLUPkn3Nq"
   },
   "outputs": [],
   "source": [
    "%%bash\n",
    "docker image build --tag helloworld:huge ."
   ]
  },
  {
   "cell_type": "markdown",
   "metadata": {
    "id": "HBLD4Xz8n3Nq"
   },
   "source": [
    "Although it produces the correct output…"
   ]
  },
  {
   "cell_type": "code",
   "execution_count": null,
   "metadata": {
    "id": "c8wwh6rpn3Nq"
   },
   "outputs": [],
   "source": [
    "%%bash\n",
    "docker container run helloworld:huge"
   ]
  },
  {
   "cell_type": "markdown",
   "metadata": {
    "id": "DGdpNrTRn3Nr"
   },
   "source": [
    "It's way too large for running the compiled program that only requires the Java Runtime Environment (JRE), which is much smaller then the JDK. In addition, it is not necessary to ship the source code to execute the program.\n",
    "\n",
    "In the end, the resulting image will be more than 600MB large:"
   ]
  },
  {
   "cell_type": "code",
   "execution_count": null,
   "metadata": {
    "id": "GIvG9JSvn3Nr"
   },
   "outputs": [],
   "source": [
    "%%bash\n",
    "docker image ls;\n",
    "REPOSITORY          TAG                 IMAGE ID            CREATED             SIZE\n",
    "helloworld          huge                a2742b8a9477        10 seconds ago      627MB"
   ]
  },
  {
   "cell_type": "markdown",
   "metadata": {
    "id": "6PWAfdyZn3Nr"
   },
   "source": [
    "Separating the build environment allows for much smaller images because the runtime environment usually required much less space. We can combine the approach of building the program using the JDK and packaging it using the JRE in a single `Dockerfile` using the multi-stage build feature.\n",
    "\n",
    "Each stage begins with a `FROM` statement and is named using the `AS` keyword. When building such a multi-stage `Dockerfile`, only the last stage describes the final image and its contents.\n",
    "\n",
    "The following `Dockerfile` describes a multi-stage build for the hello world program used above:"
   ]
  },
  {
   "cell_type": "code",
   "execution_count": null,
   "metadata": {
    "id": "R463VBRTn3Ns"
   },
   "outputs": [],
   "source": [
    "%%bash\n",
    "cat >Dockerfile <<EOF\n",
    "FROM openjdk:11-jdk AS build\n",
    "COPY HelloWorld.java .\n",
    "RUN javac HelloWorld.java\n",
    "\n",
    "FROM openjdk:11-jre AS run\n",
    "COPY --from=build HelloWorld.class .\n",
    "CMD java HelloWorld\n",
    "EOF"
   ]
  },
  {
   "cell_type": "markdown",
   "metadata": {
    "id": "NGI9y833n3Ns"
   },
   "source": [
    "Using the above example, building the Java program is performed in the first stage using the JDK image. The second (and last) stage is based on the JRE image and copies the compiled program from the first stage. Note the new syntax for the `COPY` statement where it takes a parameter called `--from` specifying the build stage to copy from.\n",
    "\n",
    "Building the image looks very similar to the well-known process:"
   ]
  },
  {
   "cell_type": "code",
   "execution_count": null,
   "metadata": {
    "id": "255ZeLcon3Ns"
   },
   "outputs": [],
   "source": [
    "%%bash\n",
    "docker image build --tag helloworld:small ."
   ]
  },
  {
   "cell_type": "markdown",
   "metadata": {
    "id": "ck90mRNJn3Nt"
   },
   "source": [
    "The resulting image will work as expected…"
   ]
  },
  {
   "cell_type": "code",
   "execution_count": null,
   "metadata": {
    "id": "36Qb0wTNn3Nt"
   },
   "outputs": [],
   "source": [
    "%%bash\n",
    "docker container run helloworld:small"
   ]
  },
  {
   "cell_type": "markdown",
   "metadata": {
    "id": "p4XLV26hn3Nt"
   },
   "source": [
    "…but have the same small size as above:"
   ]
  },
  {
   "cell_type": "code",
   "execution_count": null,
   "metadata": {
    "id": "AQJbH1Idn3Nu"
   },
   "outputs": [],
   "source": [
    "%%bash\n",
    "docker image ls"
   ]
  },
  {
   "cell_type": "markdown",
   "metadata": {
    "id": "MGlJzQdKn3Nu"
   },
   "source": [
    "## Cache memory\n",
    "\n",
    "When writing a dockerfile, the cache mechanism must be taken into account to optimise the image construction time. Between two constructions the cache can be used to save time. \n",
    "The cache can be used to rebuild an image after changing a configuration file. If the cache is used correctly, docker will not need to recompile the source code of the application.\n",
    "There are several ways to force layers to be built if needed. When you change a layer (an ADD / COPY statement) all the top layers will be invalidated and rebuilt.\n",
    "\n",
    "We will build an image for a hello world node application. Here is the dockerfile."
   ]
  },
  {
   "cell_type": "code",
   "execution_count": null,
   "metadata": {
    "attributes": {
     "classes": [
      "dockerfile"
     ],
     "id": ""
    },
    "id": "G3CoQovwn3Nu"
   },
   "outputs": [],
   "source": [
    "FROM node:10.18.1\n",
    "WORKDIR /app\n",
    "COPY . .\n",
    "RUN npm i\n",
    "EXPOSE 80\n",
    "CMD [\"node\", \"app.js\"]"
   ]
  },
  {
   "cell_type": "markdown",
   "metadata": {
    "id": "llACz0vIn3Nv"
   },
   "source": [
    "Here is the source code of the application and the .json package.\n",
    "\n",
    "package.json :"
   ]
  },
  {
   "cell_type": "code",
   "execution_count": null,
   "metadata": {
    "attributes": {
     "classes": [
      "json"
     ],
     "id": ""
    },
    "id": "fxEg76ctn3Nv"
   },
   "outputs": [],
   "source": [
    "{\n",
    "  \"name\": \"nodeapp\",\n",
    "  \"version\": \"1.0.0\",\n",
    "  \"description\": \"\",\n",
    "  \"main\": \"index.js\",\n",
    "  \"scripts\": {\n",
    "    \"test\": \"echo \\\"Error: no test specified\\\" && exit 1\"\n",
    "  },\n",
    "  \"keywords\": [],\n",
    "  \"author\": \"\",\n",
    "  \"license\": \"ISC\"\n",
    "}"
   ]
  },
  {
   "cell_type": "markdown",
   "metadata": {
    "id": "HGyzuOGJn3Nv"
   },
   "source": [
    "app.js :"
   ]
  },
  {
   "cell_type": "code",
   "execution_count": null,
   "metadata": {
    "attributes": {
     "classes": [
      "javascript"
     ],
     "id": ""
    },
    "id": "bQwQ9qyjn3Nv"
   },
   "outputs": [],
   "source": [
    "console.log(\"Hello world!\");"
   ]
  },
  {
   "cell_type": "markdown",
   "metadata": {
    "id": "ti8qgDOxn3Nw"
   },
   "source": [
    "During the first build of our image, docker builds the layers from scratch."
   ]
  },
  {
   "cell_type": "code",
   "execution_count": null,
   "metadata": {
    "id": "lXznbKw4n3Nw"
   },
   "outputs": [],
   "source": [
    "%%bash\n",
    "$ docker build -t nodeapp:1.0 .\n",
    "Sending build context to Docker daemon   5.12kB\n",
    "Step 1/6 : FROM node:10.18.1\n",
    " ---> 4c447b45159a\n",
    "Step 2/6 : WORKDIR /app\n",
    " ---> Using cache\n",
    " ---> a3c7fb356a92\n",
    "Step 3/6 : COPY . .\n",
    " ---> eff5568ac2cc\n",
    "Step 4/6 : RUN npm i\n",
    " ---> Running in 6c3884421a6d\n",
    "Removing intermediate container 6c3884421a6d\n",
    " ---> 61990a5ae4c7\n",
    "Step 5/6 : EXPOSE 80\n",
    " ---> Running in 36b7a1373e8e\n",
    "Removing intermediate container 36b7a1373e8e\n",
    " ---> 0ac34980dbdb\n",
    "Step 6/6 : CMD [\"node\", \"app.js\"]\n",
    " ---> Running in 8c669631004b\n",
    "Removing intermediate container 8c669631004b\n",
    " ---> 2c738077c79d\n",
    "Successfully built 2c738077c79d\n",
    "Successfully tagged nodeapp:1.0"
   ]
  },
  {
   "cell_type": "markdown",
   "metadata": {
    "id": "hJ-Np1Vnn3Nw"
   },
   "source": [
    "Let's run the same command again to see what happens."
   ]
  },
  {
   "cell_type": "code",
   "execution_count": null,
   "metadata": {
    "id": "bDaqTgb7n3Nw"
   },
   "outputs": [],
   "source": [
    "%%bash\n",
    "docker build -t nodeapp:1.0 .\n",
    "Sending build context to Docker daemon   5.12kB\n",
    "Step 1/6 : FROM node:10.18.1\n",
    " ---> 4c447b45159a\n",
    "Step 2/6 : WORKDIR /app\n",
    " ---> Using cache\n",
    " ---> a3c7fb356a92\n",
    "Step 3/6 : COPY . .\n",
    " ---> Using cache\n",
    " ---> eff5568ac2cc\n",
    "Step 4/6 : RUN npm i\n",
    " ---> Using cache\n",
    " ---> 61990a5ae4c7\n",
    "Step 5/6 : EXPOSE 80\n",
    " ---> Using cache\n",
    " ---> 0ac34980dbdb\n",
    "Step 6/6 : CMD [\"node\", \"app.js\"]\n",
    " ---> Using cache\n",
    " ---> 2c738077c79d\n",
    "Successfully built 2c738077c79d\n",
    "Successfully tagged nodeapp:1.0"
   ]
  },
  {
   "cell_type": "markdown",
   "metadata": {
    "id": "q2Vu_lirn3Nw"
   },
   "source": [
    "The construction is very fast and you can see the note \"---> Using cache\".\n",
    "Docker notices that the layers have not changed because all the instructions remain the same.\n",
    "\n",
    "Make a modification in the source code of the application. Here is the new app.js file."
   ]
  },
  {
   "cell_type": "code",
   "execution_count": null,
   "metadata": {
    "id": "eUjIxfmQn3Nx"
   },
   "outputs": [],
   "source": [
    "%%bash\n",
    "console.log(\"Docker is great.\");"
   ]
  },
  {
   "cell_type": "code",
   "execution_count": null,
   "metadata": {
    "id": "s0HDtCo9n3Nx"
   },
   "outputs": [],
   "source": [
    "%%bash\n",
    "docker build -t nodeapp:1.0 .\n",
    "Sending build context to Docker daemon   5.12kB\n",
    "Step 1/7 : FROM node:10.18.1\n",
    " ---> 4c447b45159a\n",
    "Step 2/7 : WORKDIR /app\n",
    " ---> Using cache\n",
    " ---> a3c7fb356a92\n",
    "Step 3/7 : COPY . .\n",
    " ---> 1160eaef9d15\n",
    "Step 5/7 : RUN npm i\n",
    " ---> Running in 4a34a3d2e664\n",
    "Removing intermediate container 4a34a3d2e664\n",
    " ---> b0728166a40e\n",
    "Step 6/7 : EXPOSE 80\n",
    " ---> Running in f99a4501f765\n",
    "Removing intermediate container f99a4501f765\n",
    " ---> acf04ce11e86\n",
    "Step 7/7 : CMD [\"node\", \"app.js\"]\n",
    " ---> Running in 28bb7d7fc2fc\n",
    "Removing intermediate container 28bb7d7fc2fc\n",
    " ---> 7f737d7b6151\n",
    "Successfully built 7f737d7b6151\n",
    "Successfully tagged nodeapp:1.0"
   ]
  },
  {
   "cell_type": "markdown",
   "metadata": {
    "id": "ma1Asl0cn3Nx"
   },
   "source": [
    "The daemon docker detects changes in the source code. It invalidated the cache in the third step. Following layers were reconfigured. \n",
    "\n",
    "In our example, this is not very impacting as we have no dependencies. In an application with a lot of dependencies, building the image can take a lot of time. \n",
    "We don't want all the dependencies to be recovered and rebuilt when changing single line of code.\n",
    "To solve this problem we will modify the Dockerfile. We're going to **split** the \"COPY\" instruction. In the first copy we only take the \"package.json\" and install the dependencies. We then copy the source code of the application.\n",
    "Here the new Dockerfile :"
   ]
  },
  {
   "cell_type": "code",
   "execution_count": null,
   "metadata": {
    "attributes": {
     "classes": [
      "dockerfile"
     ],
     "id": ""
    },
    "id": "YyxtiNRnn3Nx"
   },
   "outputs": [],
   "source": [
    "FROM node:10.18.1\n",
    "WORKDIR /app\n",
    "COPY package.json .\n",
    "RUN npm i\n",
    "COPY app.js .\n",
    "EXPOSE 80\n",
    "CMD [\"node\", \"app.js\"]"
   ]
  },
  {
   "cell_type": "markdown",
   "metadata": {
    "id": "QhbT-TPxn3Ny"
   },
   "source": [
    "When modifying a line of code, the cache after the step 5 will change."
   ]
  },
  {
   "cell_type": "code",
   "execution_count": null,
   "metadata": {
    "id": "woMiiGHmn3Ny"
   },
   "outputs": [],
   "source": [
    "%%bash\n",
    "docker build -t nodeapp:1.0 .\n",
    "Sending build context to Docker daemon   5.12kB\n",
    "Step 1/7 : FROM node:10.18.1\n",
    " ---> 4c447b45159a\n",
    "Step 2/7 : WORKDIR /app\n",
    " ---> Using cache\n",
    " ---> a3c7fb356a92\n",
    "Step 3/7 : COPY package.json .\n",
    " ---> Using cache\n",
    " ---> 0d6631054baa\n",
    "Step 4/7 : RUN npm i\n",
    " ---> Using cache\n",
    " ---> 3590f4664c3f\n",
    "Step 5/7 : COPY app.js .\n",
    " ---> c776e365a5d3\n",
    "Step 6/7 : EXPOSE 80\n",
    " ---> Running in c8e3ed8ec07b\n",
    "Removing intermediate container c8e3ed8ec07b\n",
    " ---> 453fc69bad63\n",
    "Step 7/7 : CMD [\"node\", \"app.js\"]\n",
    " ---> Running in 9630e5c56e1a\n",
    "Removing intermediate container 9630e5c56e1a\n",
    " ---> f9dc7bf1b56b\n",
    "Successfully built f9dc7bf1b56b\n",
    "Successfully tagged nodeapp:1.0"
   ]
  },
  {
   "cell_type": "markdown",
   "metadata": {
    "id": "MmIENMCln3Ny"
   },
   "source": [
    "Dependencies are only rebuilt after each change in the code.\n",
    "\n",
    "## Build context\n",
    "\n",
    "The build context is the set of files located at the specified PATH or URL. Those files are sent to the Docker daemon during the build so it can use them in the filesystem of the image.\n",
    "\n",
    "Usually, we use a command like the following one to build the image, the Dockerfile being at the root of the project’s folder:"
   ]
  },
  {
   "cell_type": "code",
   "execution_count": null,
   "metadata": {
    "id": "jIfbZKsan3Ny"
   },
   "outputs": [],
   "source": [
    "%%bash\n",
    "docker build -t nodeapp:1.0 ."
   ]
  },
  {
   "cell_type": "markdown",
   "metadata": {
    "id": "_TSeXC3Wn3Ny"
   },
   "source": [
    "In that case, the build context is the content of the current folder (“.” specified as the last element of the command).\n",
    "\n",
    "You have to be sure that the build context only contains the files and folders it really needs. This is where the dockerignore file comes into play It is the same as with the gitignore file which allows not to send sensitive data on github.\n",
    "\n",
    "Before the docker CLI sends the context to the docker daemon, it looks for a file named `.dockerignore` in the root directory of the context. If this file exists, the CLI modifies the context to exclude files and directories that match patterns in it. This helps to avoid unnecessarily sending large or sensitive files and directories to the daemon and potentially adding them to images using `ADD` or `COPY`. \n",
    "\n",
    "Many projects are managed with the git version manager. Git creates a .git folder at the root. In this context it is not useful that this file is in the image. \n",
    "\n",
    " Start handling the nodeapp project with Git."
   ]
  },
  {
   "cell_type": "code",
   "execution_count": null,
   "metadata": {
    "id": "IEwou6Zbn3Nz"
   },
   "outputs": [],
   "source": [
    "%%bash\n",
    "git init;"
   ]
  },
  {
   "cell_type": "markdown",
   "metadata": {
    "id": "mv3LM8Nin3Nz"
   },
   "source": [
    "Create the image:"
   ]
  },
  {
   "cell_type": "code",
   "execution_count": null,
   "metadata": {
    "id": "EZqQskWln3Nz"
   },
   "outputs": [],
   "source": [
    "%%bash\n",
    "docker build -t nodeapp:1.0 .\n",
    "Sending build context to Docker daemon   42.5kB\n",
    "Step 1/7 : FROM node:10.18.1\n",
    " ---> 4c447b45159a\n",
    "Step 2/7 : WORKDIR /app\n",
    "[...]"
   ]
  },
  {
   "cell_type": "markdown",
   "metadata": {
    "id": "YuI42q5vn3Nz"
   },
   "source": [
    "We see that the context sent to the demon docker has changed from 5.12kb to 42.5kB.\n",
    "\n",
    "Let's create a .dockerignore file:"
   ]
  },
  {
   "cell_type": "code",
   "execution_count": null,
   "metadata": {
    "id": "g_pSSuQZn3Nz"
   },
   "outputs": [],
   "source": [
    "%%bash\n",
    "echo \".git\" > .dockerignore"
   ]
  },
  {
   "cell_type": "markdown",
   "metadata": {
    "id": "enW3n-LPn3Nz"
   },
   "source": [
    "And build the app:"
   ]
  },
  {
   "cell_type": "code",
   "execution_count": null,
   "metadata": {
    "id": "W6nMOWy4n3N0"
   },
   "outputs": [],
   "source": [
    "%%bash\n",
    "docker build -t nodeapp:1.0 .\n",
    "Sending build context to Docker daemon  6.144kB\n",
    "Step 1/7 : FROM node:10.18.1\n",
    " ---> 4c447b45159a\n",
    "Step 2/7 : WORKDIR /app\n",
    "[...]"
   ]
  },
  {
   "cell_type": "markdown",
   "metadata": {
    "id": "bGNWEQCXn3N0"
   },
   "source": [
    "The git file is no longer sent to the docker deamon. The build context size is reduced by 35kb.\n",
    "\n",
    "## Deploy/share an image\n",
    "\n",
    "We can share an image by sending it to the hub.\n",
    "\n",
    "To get started, you need to create an account on the Hub, go to [Docker Hub](https://hub.docker.com/).\n",
    "\n",
    "Once registered, you log in from our docker :"
   ]
  },
  {
   "cell_type": "code",
   "execution_count": null,
   "metadata": {
    "id": "ukkqZflPn3N0"
   },
   "outputs": [],
   "source": [
    "%%bash\n",
    "docker login;\n",
    "Login with your Docker ID to push and pull images from Docker Hub. If you don't have a Docker ID, head over to https://hub.docker.com to create one.\n",
    "Username: \n",
    "Password: \n",
    "WARNING! Your password will be stored unencrypted in /home/pth/.docker/config.json.\n",
    "Configure a credential helper to remove this warning. See\n",
    "https://docs.docker.com/engine/reference/commandline/login/#credentials-store\n",
    "\n",
    "Login Succeeded"
   ]
  },
  {
   "cell_type": "markdown",
   "metadata": {
    "id": "IINY4Q8Jn3N0"
   },
   "source": [
    "Now that we are logged in, we can push our image, to do so, your image must be named in this form: username/imagename:tag :"
   ]
  },
  {
   "cell_type": "code",
   "execution_count": null,
   "metadata": {
    "id": "ILIEWbXxn3N0"
   },
   "outputs": [],
   "source": [
    "%%bash\n",
    "docker image push username/nodeapp:1.0;"
   ]
  },
  {
   "cell_type": "markdown",
   "metadata": {
    "id": "oZE1--T1n3N0"
   },
   "source": [
    "You can go to your Hub, and you will find a new repository.\n",
    "\n",
    "## Useful commands\n",
    "\n",
    "I invite you to read the official docker documentation and browse through all the possible commands related [here]([docker image | Docker Documentation](https://docs.docker.com/engine/reference/commandline/image/)"
   ]
  }
 ],
 "metadata": {
  "colab": {
   "collapsed_sections": [
    "MmIENMCln3Ny",
    "bGNWEQCXn3N0",
    "oZE1--T1n3N0"
   ],
   "provenance": []
  },
  "kernelspec": {
   "display_name": "Python 3 (ipykernel)",
   "language": "python",
   "name": "python3"
  },
  "language_info": {
   "codemirror_mode": {
    "name": "ipython",
    "version": 3
   },
   "file_extension": ".py",
   "mimetype": "text/x-python",
   "name": "python",
   "nbconvert_exporter": "python",
   "pygments_lexer": "ipython3",
   "version": "3.11.5"
  }
 },
 "nbformat": 4,
 "nbformat_minor": 1
}
