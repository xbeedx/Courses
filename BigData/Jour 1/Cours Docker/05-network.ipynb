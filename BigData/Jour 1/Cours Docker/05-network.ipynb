{
 "cells": [
  {
   "cell_type": "markdown",
   "metadata": {},
   "source": [
    "## Networks\n",
    "\n",
    "One of the reasons Docker containers and services are so powerful is that you can connect them together, or connect them to non-Docker workloads. We have 4 basic types of networks:\n",
    "\n",
    "Here is the summary.\n",
    "\n",
    "* **bridge**\n",
    "\n",
    "* **host**\n",
    "\n",
    "* **none**\n",
    "\n",
    "* **overlay**\n",
    "\n",
    "There are plugins to extend these possibilities.\n",
    "\n",
    "## Bridge\n",
    "\n",
    "The default network driver. If you don’t specify a driver, this is the type of network you are creating. Bridge networks are usually used when your applications run in standalone containers that need to communicate. All containers without a `--network` specified, are attached to the default bridge network. On a user-defined bridge network, containers can resolve each other by name or alias.\n",
    "\n",
    "Let's launch a nginx container on the network by default."
   ]
  },
  {
   "cell_type": "code",
   "execution_count": null,
   "metadata": {},
   "outputs": [],
   "source": [
    "%%bash\n",
    "docker container run -p 80:80 -d --name nginx --rm nginx:latest;"
   ]
  },
  {
   "cell_type": "markdown",
   "metadata": {},
   "source": [
    "Its default ip address on the network is"
   ]
  },
  {
   "cell_type": "code",
   "execution_count": null,
   "metadata": {},
   "outputs": [],
   "source": [
    "%%bash\n",
    "docker inspect nginx | grep IPAddress;\n",
    "\"SecondaryIPAddresses\": null,\n",
    "            \"IPAddress\": \"172.17.0.2\",\n",
    "                    \"IPAddress\": \"172.17.0.2\","
   ]
  },
  {
   "cell_type": "markdown",
   "metadata": {},
   "source": [
    "We can reach for it via another container on the same network by default."
   ]
  },
  {
   "cell_type": "code",
   "execution_count": null,
   "metadata": {},
   "outputs": [],
   "source": [
    "%%bash\n",
    "docker container run --rm curlimages/curl curl 172.17.0.2;\n",
    "  % Total    % Received % Xferd  Average Speed   Time    Time     Time  Current\n",
    "                                 Dload  Upload   Total   Spent    Left  Speed\n",
    "100   612  100   612    0     0   597k      0 --:--:-- --:--:-- --:--:--  597k\n",
    "<!DOCTYPE html>\n",
    "<html>\n",
    "<head>\n",
    "<title>Welcome to nginx!</title>\n",
    "<style>\n",
    "    body {\n",
    "        width: 35em;\n",
    "        margin: 0 auto;\n",
    "        font-family: Tahoma, Verdana, Arial, sans-serif;\n",
    "    }\n",
    "</style>\n",
    "</head>\n",
    "<body>\n",
    "<h1>Welcome to nginx!</h1>\n",
    "<p>If you see this page, the nginx web server is successfully installed and\n",
    "working. Further configuration is required.</p>\n",
    "\n",
    "<p>For online documentation and support please refer to\n",
    "<a href=\"http://nginx.org/\">nginx.org</a>.<br/>\n",
    "Commercial support is available at\n",
    "<a href=\"http://nginx.com/\">nginx.com</a>.</p>\n",
    "\n",
    "<p><em>Thank you for using nginx.</em></p>\n",
    "</body>\n",
    "</html>"
   ]
  },
  {
   "cell_type": "markdown",
   "metadata": {},
   "source": [
    "Change the nginx network container to be isolated. We will create a network only for this container."
   ]
  },
  {
   "cell_type": "code",
   "execution_count": null,
   "metadata": {},
   "outputs": [],
   "source": [
    "%%bash\n",
    "docker network create nginxnet;\n",
    "docker rm -f nginx;\n",
    "docker container run -p 80:80 -d --name nginx --rm --network nginxnet nginx:latest;\n",
    "docker inspect nginx | grep IPAddress;\n",
    "\"SecondaryIPAddresses\": null,\n",
    "            \"IPAddress\": \"\",\n",
    "                    \"IPAddress\": \"172.18.0.2\","
   ]
  },
  {
   "cell_type": "markdown",
   "metadata": {},
   "source": [
    "1. Network creation\n",
    "\n",
    "2. Delete the nginx container and recreate it on the new network\n",
    "\n",
    "3. Its new ip address on the network is 172.18.0.2\n",
    "\n",
    "Can we now still wait for it?"
   ]
  },
  {
   "cell_type": "code",
   "execution_count": null,
   "metadata": {},
   "outputs": [],
   "source": [
    "%%bash\n",
    "docker container run --rm curlimages/curl curl 172.18.0.2;\n",
    "docker container run --rm curlimages/curl curl 172.18.0.2;\n",
    "  % Total    % Received % Xferd  Average Speed   Time    Time     Time  Current\n",
    "                                 Dload  Upload   Total   Spent    Left  Speed\n",
    "  0     0    0     0    0     0      0      0 --:--:--  0:00:16 --:--:--     0"
   ]
  },
  {
   "cell_type": "markdown",
   "metadata": {},
   "source": [
    "Of course not. They are no longer part of the same network. We curl from the default network while the nginx container is on the nginxnet network.\n",
    "\n",
    "## None\n",
    "\n",
    "If you want to completely disable the networking stack on a container, you can use the `--network none` flag when starting the container.\n",
    "\n",
    "## Host\n",
    "\n",
    "For standalone containers, remove network isolation between the container and the Docker host, and use the host’s networking directly. `host` is only available for swarm services on Docker 17.06 and higher. We will see briefly docker swarm in another reading\n",
    "\n",
    "## Overlay\n",
    "\n",
    "Overlay networks connect multiple Docker daemons together and enable swarm services to communicate with each other. You can also use overlay networks to facilitate communication between a swarm service and a standalone container, or between two standalone containers on different Docker daemons. This strategy removes the need to do OS-level routing between these containers"
   ]
  }
 ],
 "metadata": {
  "kernelspec": {
   "display_name": "Python 3",
   "language": "python",
   "name": "python3"
  },
  "language_info": {
   "codemirror_mode": {
    "name": "ipython",
    "version": 3
   },
   "file_extension": ".py",
   "mimetype": "text/x-python",
   "name": "python",
   "nbconvert_exporter": "python",
   "pygments_lexer": "ipython3",
   "version": "3.8.5"
  }
 },
 "nbformat": 4,
 "nbformat_minor": 4
}
