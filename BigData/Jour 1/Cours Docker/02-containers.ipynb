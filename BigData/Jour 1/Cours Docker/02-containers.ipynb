{
 "cells": [
  {
   "cell_type": "markdown",
   "metadata": {},
   "source": [
    "## Containers\n",
    "\n",
    "Docker containers are processes isolated from the system. In this section we will see how to easily launch containers using docker.\n",
    "\n",
    "Here is the summary.\n",
    "\n",
    "* Launching a container\n",
    "\n",
    "* Publish ports\n",
    "\n",
    "* Bound Mount\n",
    "\n",
    "* Resource constraints\n",
    "\n",
    "* Permissions\n",
    "\n",
    "* Useful options\n",
    "\n",
    "## Managing the life cycle of containers\n",
    "\n",
    "Containers have lifecycle and several states. I am going to present you the different commands that allow you to modify the state of a docker container.\n",
    "\n",
    "<img src=\"https://full-stack-assets.s3.eu-west-3.amazonaws.com/images/LEAD/M04-DevOps/D03/container-lifecycle.svg\" title=\"\" alt=\"container-lifecycle.svg\" data-align=\"center\">\n",
    "\n",
    "In this section, you will learn the most common commands used to manage docker containers."
   ]
  },
  {
   "cell_type": "code",
   "execution_count": null,
   "metadata": {},
   "outputs": [],
   "source": [
    "docker run [OPTIONS] IMAGE [COMMAND] [ARG...]"
   ]
  },
  {
   "cell_type": "markdown",
   "metadata": {},
   "source": [
    "The `docker run` command first `creates` a writeable container layer over the specified image, and then `starts` it using the specified command. A stopped container can be restarted with all its previous changes intact using `docker start`.\n",
    "\n",
    "Idée : Préciser les commandes pour voir les containers \"docker ps\". What would a tutorial be without the famous hello world?  The following command launches a very light version of linux called alpine."
   ]
  },
  {
   "cell_type": "code",
   "execution_count": null,
   "metadata": {
    "attributes": {
     "classes": [
      "docker"
     ],
     "id": ""
    }
   },
   "outputs": [],
   "source": [
    "docker container run alpine echo \"Hello world!\"\n",
    "Hello world!"
   ]
  },
  {
   "cell_type": "markdown",
   "metadata": {},
   "source": [
    "What's going on behind it? As in the previous example, the docker daemon will first download the image if it is not present locally. A container based on this image will be launched.\n",
    "We have added at the end of the command some instructions when the container is launched. Once launched the container will display the text hello-world. Once the task has been completed the container will end.\n",
    "\n",
    "### List containers"
   ]
  },
  {
   "cell_type": "code",
   "execution_count": null,
   "metadata": {},
   "outputs": [],
   "source": [
    "%%bash\n",
    "docker container ps;\n",
    "CONTAINER ID  IMAGE  COMMAND  CREATED   STATUS   PORTS   NAMES"
   ]
  },
  {
   "cell_type": "markdown",
   "metadata": {},
   "source": [
    "Docker tells us that there is no container running, but we have just launched one. In fact, the previous container stopped as soon as it finished his task. To find it again we have to list the containers that have also stopped."
   ]
  },
  {
   "cell_type": "code",
   "execution_count": null,
   "metadata": {},
   "outputs": [],
   "source": [
    "%%bash\n",
    "docker container ps -a;\n",
    "CONTAINER ID        IMAGE               COMMAND                 CREATED             STATUS                     PORTS               NAMES\n",
    "a42244a40718        alpine              \"echo 'Hello world!'\"   3 minutes ago       Exited (0) 3 minutes ago                       flamboyant_elbakyan"
   ]
  },
  {
   "cell_type": "markdown",
   "metadata": {},
   "source": [
    "Option -a allows you to list all containers. Without, only running containers are listed.\n",
    "\n",
    "1. CONTAINER ID: Container ID, generated so that it is unique.\n",
    "\n",
    "2. IMAGE : The image used for this container\n",
    "\n",
    "3. COMMAND: The command executed when the container is started\n",
    "\n",
    "4. CREATED: Time since creation of the container\n",
    "\n",
    "5. STATUS: The current status of the container, here exited with a return code 0 (without error) for 3 minutes\n",
    "\n",
    "6. PORTS: List of listened ports (we will see this later)\n",
    "\n",
    "7. NAMES: Name of the container, here it is a random name because we have not defined one for our container.\n",
    "\n",
    "Let's start a nginx server."
   ]
  },
  {
   "cell_type": "code",
   "execution_count": null,
   "metadata": {},
   "outputs": [],
   "source": [
    "%%bash\n",
    "docker container run -d --name nginx -p 8080:80 nginx;"
   ]
  },
  {
   "cell_type": "markdown",
   "metadata": {},
   "source": [
    "1. The --name option is used to give a name to the container docker. Be careful, two containers cannot have the same name.\n",
    "\n",
    "2. 8080 port is exposed.\n",
    "\n",
    "### Inspect\n",
    "\n",
    "The **inspect** order gives us all the information about the container. What files are mounted, its image, its ports etc... I let you navigate through this flow of useful information to debug an application."
   ]
  },
  {
   "cell_type": "code",
   "execution_count": null,
   "metadata": {},
   "outputs": [],
   "source": [
    "%%bash\n",
    "docker inspect nginx;\n",
    "[\n",
    "    {\n",
    "        \"Id\": \"a584be52a1b44d6f5fd4fe5109cdb6711d880a57e8eed0d0f825a2e44247250e\",\n",
    "        \"Created\": \"2020-10-09T15:03:58.403524416Z\",\n",
    "        \"Path\": \"/docker-entrypoint.sh\",\n",
    "        \"Args\": [\n",
    "            \"nginx\",\n",
    "            \"-g\",\n",
    "            \"daemon off;\"\n",
    "        ],\n",
    "        \"State\": {\n",
    "            \"Status\": \"running\",\n",
    "[....]"
   ]
  },
  {
   "cell_type": "markdown",
   "metadata": {},
   "source": [
    "A server like nginx produces logs. When a client connects logs are generated. Accessing these logs is easy."
   ]
  },
  {
   "cell_type": "code",
   "execution_count": null,
   "metadata": {},
   "outputs": [],
   "source": [
    "%%bash\n",
    "docker logs nginx;\n",
    "/docker-entrypoint.sh: /docker-entrypoint.d/ is not empty, will attempt to perform configuration\n",
    "/docker-entrypoint.sh: Looking for shell scripts in /docker-entrypoint.d/\n",
    "/docker-entrypoint.sh: Launching /docker-entrypoint.d/10-listen-on-ipv6-by-default.sh\n",
    "[...]"
   ]
  },
  {
   "cell_type": "markdown",
   "metadata": {},
   "source": [
    "1. nginx is the name of the container.\n",
    "\n",
    "Logs are only displayed at a time t. To stay logged in and follow the logs, add the -f option."
   ]
  },
  {
   "cell_type": "code",
   "execution_count": null,
   "metadata": {},
   "outputs": [],
   "source": [
    "%%bash\n",
    "docker logs -f nginx;"
   ]
  },
  {
   "cell_type": "markdown",
   "metadata": {},
   "source": [
    "1. -f (follow) keep STDOUT open in the terminal\n",
    "\n",
    "Use your browser to generate logs on at localhost:8080. You will see the created logs in live.\n",
    "\n",
    "## Exec\n",
    "\n",
    "With the command \"exec\" you can execute orders in your container."
   ]
  },
  {
   "cell_type": "code",
   "execution_count": null,
   "metadata": {},
   "outputs": [],
   "source": [
    "%%bash\n",
    "docker exec nginx service nginx start;\n",
    "docker ps;\n",
    "CONTAINER ID  IMAGE  COMMAND  CREATED   STATUS   PORTS   NAMES"
   ]
  },
  {
   "cell_type": "markdown",
   "metadata": {},
   "source": [
    "1. Stop the nginx server in the container.\n",
    "\n",
    "2. The main process of the container is stopped\n",
    "\n",
    "3. The container is stopped\n",
    "\n",
    "## Stop\n",
    "\n",
    "There is an easier way to stop a container."
   ]
  },
  {
   "cell_type": "code",
   "execution_count": null,
   "metadata": {},
   "outputs": [],
   "source": [
    "%%bash\n",
    "docker container stop nginx;"
   ]
  },
  {
   "cell_type": "markdown",
   "metadata": {},
   "source": [
    "## Rm\n",
    "\n",
    "The container will be deleted. If files are mounted the data will not be lost. Warning : all other data will be lost."
   ]
  },
  {
   "cell_type": "code",
   "execution_count": null,
   "metadata": {},
   "outputs": [],
   "source": [
    "%%bash\n",
    "docker container rm nginx;"
   ]
  },
  {
   "cell_type": "markdown",
   "metadata": {},
   "source": [
    "## Interactive Shell\n",
    "\n",
    "During the launch of the Alpine container we displayed a message and then the container stopped. The container stops as soon as the process is no longer in progress.\n",
    "With the command below we can open an interactive shell in the container."
   ]
  },
  {
   "cell_type": "code",
   "execution_count": null,
   "metadata": {},
   "outputs": [],
   "source": [
    "%%bash\n",
    " docker container run -it alpine"
   ]
  },
  {
   "cell_type": "markdown",
   "metadata": {},
   "source": [
    "1. Launch a terminal in an Alpine image\n",
    "2. The -t option opens a pseudo-terminal in the container.\n",
    "3. The -i option keep STDIN open even if not attached\n",
    "\n",
    "This method makes it possible, for example, to use software without installing it directly on your host. We would like to perform some actions in python ( here's a loop that displays \"Courage, docker is great!\")."
   ]
  },
  {
   "cell_type": "code",
   "execution_count": null,
   "metadata": {},
   "outputs": [],
   "source": [
    "%%bash\n",
    "docker container run -it python:latest python3"
   ]
  },
  {
   "cell_type": "code",
   "execution_count": null,
   "metadata": {},
   "outputs": [],
   "source": [
    "for x in range(0, 10):\n",
    "    print(\"Courage, docker is great!\")"
   ]
  },
  {
   "cell_type": "markdown",
   "metadata": {},
   "source": [
    "Conversely, the nginx web server needs a process that keeps running. We want the container to keep running after we close the terminal.\n",
    "Use the -d option :"
   ]
  },
  {
   "cell_type": "code",
   "execution_count": null,
   "metadata": {},
   "outputs": [],
   "source": [
    "%%bash\n",
    "docker container run -d nginx"
   ]
  },
  {
   "cell_type": "markdown",
   "metadata": {},
   "source": [
    "Your container will then be started in detached mode. STDIN, STDOUT and STDERR are no longer redirected to your terminal but to the daemon. You can close your terminal without stopping the container.\n",
    "\n",
    "## Publish port\n",
    "\n",
    "We saw earlier that the containers may need to listen on ports on the host machine. To do this it is necessary to specify which port is to be opened and to which port the traffic will be routed.\n",
    "Docker offers the possibility to map the outer ports of a container to another port inside. This allows you to run multiple http web servers (on port 80). All you have to do is specify a different port in the host machine.\n",
    "\n",
    "This command starts two different web servers on port 8080 and 8081 of the machine."
   ]
  },
  {
   "cell_type": "code",
   "execution_count": null,
   "metadata": {},
   "outputs": [],
   "source": [
    "%%bash\n",
    "docker run -p 8080:80 -d nginx;\n",
    "docker run -p 8081:80 -d nginx;\n",
    "docker ps;"
   ]
  },
  {
   "cell_type": "markdown",
   "metadata": {},
   "source": [
    "1. You can access the first server on port 8080\n",
    "\n",
    "2. You can access the first server on port 8081\n",
    "\n",
    "## Bind Mount\n",
    "\n",
    "With a bind mount, we can share the host file system with the container. \n",
    "Here is an example :\n",
    "You wish to develop a back-end application in javascript using node. Several remote developers work with you to help you on small blocking points. No need for them to download and install node. They will simply download your source code and launch a container with node by sharing your source code with the container. Then, they will be able to develop code from their host while benefiting from node without having to worry about installation.\n",
    "With this method, the developer can even benefit from hot reloads of his code."
   ]
  },
  {
   "cell_type": "code",
   "execution_count": null,
   "metadata": {},
   "outputs": [],
   "source": [
    "%%bash\n",
    "mkdir test; cd test;\n",
    "echo 'console.log(\"hello world!\")' > index.js;\n",
    "docker container run -v $PWD:/home node home"
   ]
  },
  {
   "cell_type": "markdown",
   "metadata": {},
   "source": [
    "Second case. You wish to launch an nginx container with certificates for https configuration. \n",
    "You share the certificates present on your host with the nginx container. You will be able to easily administer your certificates without having to worry about the container. Several applications will be able to benefit from the same certificates at the same time.\n",
    "\n",
    "## Limit\n",
    "\n",
    "By default, a container has no resource constraints and can use as much of a given resource as the host’s kernel scheduler allows. Docker provides ways to control how much memory, or CPU a container can use, setting runtime configuration flags of the `docker run` command. This section provides details on when you should set such limits and the possible implications of setting them.\n",
    "\n",
    "### Memory\n",
    "\n",
    "It is important not to allow a running container to consume too much of the host machine’s memory. On Linux hosts, if the kernel detects that there is not enough memory to perform important system functions, it throws an `OOME`, or `Out Of Memory Exception`, and starts killing processes to free up memory. Any process is subject to killing, including Docker and other important applications. This can effectively bring the entire system down if the wrong process is killed."
   ]
  },
  {
   "cell_type": "code",
   "execution_count": null,
   "metadata": {},
   "outputs": [],
   "source": [
    "%%bash\n",
    "docker container run --memory 4MB estesp/hogit;"
   ]
  },
  {
   "cell_type": "markdown",
   "metadata": {},
   "source": [
    "1. Launch of a container that stresses the ram\n",
    "\n",
    "2. Maximum limit of the ram to 4MB\n",
    "\n",
    "3. The container is stropped by the kernel as soon as the limit is reached.\n",
    "\n",
    "### CPU\n",
    "\n",
    "By default, each container’s access to the host machine’s CPU cycles is unlimited. You can set various constraints to limit a given container’s access to the host machine’s CPU cycles."
   ]
  },
  {
   "cell_type": "code",
   "execution_count": null,
   "metadata": {},
   "outputs": [],
   "source": [
    "%%bash\n",
    "docker container run -ti --rm --cpus=\"2\" ubuntu;\n",
    "root@a0f492e2fc05:/# apt-get update && apt-get install stress\n",
    "root@a0f492e2fc05:/# stress -c 3\n",
    "root@a0f492e2fc05:/# top\n",
    "    PID USER      PR  NI    VIRT    RES    SHR S  %CPU  %MEM     TIME+ COMMAND                                                                                                                                     \n",
    "    262 root      20   0    3856    100      0 R  67.3   0.0   0:03.35 stress                                                                                                                                      \n",
    "    263 root      20   0    3856    100      0 R  67.3   0.0   0:03.38 stress                                                                                                                                      \n",
    "    261 root      20   0    3856    100      0 R  65.3   0.0   0:03.31 stress                                                                                                                                      \n",
    "      1 root      20   0    4108   3524   2972 S   0.0   0.0   0:00.05 bash                                                                                                                                        \n",
    "    252 root      20   0    4108   3516   3060 S   0.0   0.0   0:00.01 bash                                                                                                                                        \n",
    "    259 root      20   0    6092   3280   2740 R   0.0   0.0   0:00.00 top                                                                                                                                         \n",
    "    260 root      20   0    3856   1048    968 S   0.0   0.0   0:00.00 stress "
   ]
  },
  {
   "cell_type": "markdown",
   "metadata": {},
   "source": [
    "1. Launch the container with a limit of 2 cpu. The host used has 4 cpu.\n",
    "\n",
    "2. Launch the stress test on 3 cpu. The power of 2 cpu is distributed over the 3. Each cpu can expect a maximum of 66% of its use.\n",
    "\n",
    "### I/O\n",
    "\n",
    "By default, all containers get the same proportion of block IO bandwidth (blkio). This proportion is 500. To modify this proportion, change the container’s blkio weight relative to the weighting of all other running containers using the `--blkio-weight` flag. We can also limit the writing speed of the disc, thanks to an option.\n",
    "\n",
    "--device-read-iops: Limits the IO read on a device per second. \n",
    "\n",
    "--device-write-bps: Limits the writing speed on a device per second.\n",
    "\n",
    "Other options are available on the official docker documentation\n",
    "\n",
    "## Useful command\n",
    "\n",
    "Here is my personal selection of useful command."
   ]
  },
  {
   "cell_type": "code",
   "execution_count": null,
   "metadata": {},
   "outputs": [],
   "source": [
    "%%bash\n",
    "docker exec -it container bash;"
   ]
  },
  {
   "cell_type": "markdown",
   "metadata": {},
   "source": [
    "Allows to open an interactive shell in a container. caution: the storyteller must have the bash utility."
   ]
  },
  {
   "cell_type": "code",
   "execution_count": null,
   "metadata": {},
   "outputs": [],
   "source": [
    "%%bash\n",
    "docker rm -f nginx"
   ]
  },
  {
   "cell_type": "markdown",
   "metadata": {},
   "source": [
    "Allows you to forcefully delete all running container."
   ]
  },
  {
   "cell_type": "code",
   "execution_count": null,
   "metadata": {},
   "outputs": [],
   "source": [
    "%%bash\n",
    "docker rm -f $(docker ps -aq)"
   ]
  },
  {
   "cell_type": "markdown",
   "metadata": {},
   "source": [
    "1. -f option allows you to remove the containers by force\n",
    "\n",
    "2. docker ps -aq lists all the containers and displays only their id (quiet mode)\n",
    "\n",
    "This control must be used with care. It can be used to delete all stopped or running containers. Data can be lost, so be careful."
   ]
  }
 ],
 "metadata": {
  "kernelspec": {
   "display_name": "Python 3 (ipykernel)",
   "language": "python",
   "name": "python3"
  },
  "language_info": {
   "codemirror_mode": {
    "name": "ipython",
    "version": 3
   },
   "file_extension": ".py",
   "mimetype": "text/x-python",
   "name": "python",
   "nbconvert_exporter": "python",
   "pygments_lexer": "ipython3",
   "version": "3.11.5"
  }
 },
 "nbformat": 4,
 "nbformat_minor": 4
}
