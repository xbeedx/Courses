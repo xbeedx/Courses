{
 "cells": [
  {
   "cell_type": "markdown",
   "metadata": {},
   "source": [
    "## Compose\n",
    "\n",
    "Docker compose allows to compose a stack or a complete container infrastructure. It simplifies the creation, interconnection and multiplication of containers. Basically we create a .yml file that will allow us to manage a set of containers in a few commands.\n",
    "\n",
    "Docker compose allows you to easily manage applications that are complex. A yml file describes the architecture of a service by defining all the micro services and their configuration.\n",
    "We will see an example in the following.\n",
    "\n",
    "Here is the summary.\n",
    "\n",
    "* Installation\n",
    "\n",
    "* Docker compose file\n",
    "\n",
    "* Command\n",
    "\n",
    "* Exemple\n",
    "\n",
    "## Docker compose file\n",
    "\n",
    "Here we are facing the wall! An example of a concrete composing docker that we will explain step by step! This docker compose is not complete, I shortened it for the explanations."
   ]
  },
  {
   "cell_type": "code",
   "execution_count": null,
   "metadata": {
    "attributes": {
     "classes": [
      "yml"
     ],
     "id": ""
    }
   },
   "outputs": [],
   "source": [
    "version: '3.7'\n",
    "services:\n",
    "  api:\n",
    "    container_name: api\n",
    "    image: compagny/api:prod\n",
    "    environment:\n",
    "      DB_HOST: postgres\n",
    "      DB_NAME: postgres\n",
    "      PORT: 3000\n",
    "    depends_on:\n",
    "      postgres:\n",
    "        condition: service_started\n",
    "    networks:\n",
    "      net: {}\n",
    "\n",
    "  client:\n",
    "    container_name: client\n",
    "    image: compagny/front:prod\n",
    "    networks:\n",
    "      net: {}\n",
    "\n",
    "  postgres:\n",
    "    container_name: postgres\n",
    "    environment:\n",
    "      HOSTNAME: postgres\n",
    "      POSTGRES_PASSWORD: postgres\n",
    "      POSTGRES_USER: postgres\n",
    "    image: postgres:latest\n",
    "    networks:\n",
    "      net: {}\n",
    "    ports:\n",
    "    - published: 5432\n",
    "      target: 5432\n",
    "    restart: unless-stopped\n",
    "    volumes:\n",
    "    - postgres_data:/var/lib/postgresql/data:rw\n",
    "\n",
    "volumes:\n",
    "  postgres_data: {}\n",
    "\n",
    "networks:\n",
    "  net: {}"
   ]
  },
  {
   "cell_type": "markdown",
   "metadata": {},
   "source": [
    "Our application is composed of several services. A Front-End client, an API and a Database. A classic web application stack.\n",
    "\n",
    "1. **version** : We define the version of the docker-composer api we use. Some instructions are different as updates are made.\n",
    "\n",
    "2. **service** : It is in this section where our different applications will be defined. You will find in this block our three services that make up our application\n",
    "\n",
    "3. **api** : Let's start by describing our api service.\n",
    "   \n",
    "   1. **container_name** : choose the name that the container will have. This name must be unique.\n",
    "   \n",
    "   2. **image**: the one that will be instantiated, if it is not present it will be downloaded from the configured registry\n",
    "   \n",
    "   3. **environment**: Defined the environment variables available inside the container\n",
    "   \n",
    "   4. **depends_on**: Wait for a service to be started. Here we are waiting for the database. Be careful, we are talking about starting the container, by necessarily the database. Once the container is launched, the database may take a little time to be ready. \n",
    "   \n",
    "   5. **networks**: the container will be present on this network\n",
    "\n",
    "4. **postgres**: \n",
    "   \n",
    "   1. **ports**: define which port of the container will be open on the network\n",
    "   \n",
    "   2. **volumes**: bind the volume to the container. *rw* defined the rights of the container on the volume (**R**ead **W**rite)\n",
    "\n",
    "5. **client**:\n",
    "    \n",
    "    1. **image**: Dockerized front application of the compagny. Can be a nginx server web or apache...\n",
    "\n",
    "6. **Volumes**: Creates a volume. The one created here is used to store the postgres database.\n",
    "\n",
    "7. **Network**: Creates a network. This network is used to put in communication the containers. Containers can communicate with each other using the service names defined in the docker compose.\n",
    "\n",
    "## Installation\n",
    "\n",
    "You can go to the official [documentation](https://docs.docker.com/compose/install/) for the installation. Docker compose is a binary and very easy to install. On linux it is a binary. I let you choose your installation method according to your OS.\n",
    "\n",
    "Example for linux :"
   ]
  },
  {
   "cell_type": "code",
   "execution_count": null,
   "metadata": {},
   "outputs": [],
   "source": [
    "%%bash\n",
    "sudo curl -L \"https://github.com/docker/compose/releases/download/1.27.4/docker-compose-$(uname -s)-$(uname -m)\" -o /usr/local/bin/docker-compose\n",
    "sudo chmod +x /usr/local/bin/docker-compose\n",
    "sudo ln -s /usr/local/bin/docker-compose /usr/bin/docker-compose"
   ]
  },
  {
   "cell_type": "markdown",
   "metadata": {},
   "source": [
    "1. Download the current stable release of Docker Compose\n",
    "\n",
    "2. Apply executable permissions to the binary:\n",
    "\n",
    "3. Update your path or create a symbolic link to `/usr/bin`.\n",
    "\n",
    "## Command\n",
    "\n",
    "Link to [official documentation](https://docs.docker.com/compose/compose-file/). Let's take a look at the docker-composer commands:"
   ]
  },
  {
   "cell_type": "code",
   "execution_count": null,
   "metadata": {},
   "outputs": [],
   "source": [
    "%%bash\n",
    "docker-compose --help\n",
    "Define and run multi-container applications with Docker.\n",
    "\n",
    "Usage:\n",
    "  docker-compose [-f <arg>...] [options] [--] [COMMAND] [ARGS...]\n",
    "  docker-compose -h|--help\n",
    "\n",
    "Options:\n",
    "  -f, --file FILE             Specify an alternate compose file\n",
    "                              (default: docker-compose.yml)\n",
    "  -p, --project-name NAME     Specify an alternate project name\n",
    "                              (default: directory name)\n",
    "  -c, --context NAME          Specify a context name\n",
    "  --verbose                   Show more output\n",
    "  --log-level LEVEL           Set log level (DEBUG, INFO, WARNING, ERROR, CRITICAL)\n",
    "  --no-ansi                   Do not print ANSI control characters\n",
    "  -v, --version               Print version and exit\n",
    "  -H, --host HOST             Daemon socket to connect to\n",
    "\n",
    "  --tls                       Use TLS; implied by --tlsverify\n",
    "  --tlscacert CA_PATH         Trust certs signed only by this CA\n",
    "  --tlscert CLIENT_CERT_PATH  Path to TLS certificate file\n",
    "  --tlskey TLS_KEY_PATH       Path to TLS key file\n",
    "  --tlsverify                 Use TLS and verify the remote\n",
    "  --skip-hostname-check       Don't check the daemon's hostname against the\n",
    "                              name specified in the client certificate\n",
    "  --project-directory PATH    Specify an alternate working directory\n",
    "                              (default: the path of the Compose file)\n",
    "  --compatibility             If set, Compose will attempt to convert keys\n",
    "                              in v3 files to their non-Swarm equivalent (DEPRECATED)\n",
    "  --env-file PATH             Specify an alternate environment file\n",
    "\n",
    "Commands:\n",
    "  build              Build or rebuild services\n",
    "  config             Validate and view the Compose file\n",
    "  create             Create services\n",
    "  down               Stop and remove containers, networks, images, and volumes\n",
    "  events             Receive real time events from containers\n",
    "  exec               Execute a command in a running container\n",
    "  help               Get help on a command\n",
    "  images             List images\n",
    "  kill               Kill containers\n",
    "  logs               View output from containers\n",
    "  pause              Pause services\n",
    "  port               Print the public port for a port binding\n",
    "  ps                 List containers\n",
    "  pull               Pull service images\n",
    "  push               Push service images\n",
    "  restart            Restart services\n",
    "  rm                 Remove stopped containers\n",
    "  run                Run a one-off command\n",
    "  scale              Set number of containers for a service\n",
    "  start              Start services\n",
    "  stop               Stop services\n",
    "  top                Display the running processes\n",
    "  unpause            Unpause services\n",
    "  up                 Create and start containers\n",
    "  version            Show version information and quit"
   ]
  },
  {
   "cell_type": "markdown",
   "metadata": {},
   "source": [
    "We are not going to describe them all, the documentation is quite clear."
   ]
  },
  {
   "cell_type": "code",
   "execution_count": null,
   "metadata": {},
   "outputs": [],
   "source": [
    "%%bash\n",
    "docker-compose up;"
   ]
  },
  {
   "cell_type": "markdown",
   "metadata": {},
   "source": [
    "Here is a selection of the most useful commands:"
   ]
  },
  {
   "cell_type": "code",
   "execution_count": null,
   "metadata": {},
   "outputs": [],
   "source": [
    "To launch the containers: docker-compose up\n",
    "In the background: docker-compose up -d\n",
    "To stop the containers: docker-compose stop <container-name>.\n",
    "They are restarted: docker-compose start <container-name>.\n",
    "And we restart them: docker-compose restart <container-name>.\n",
    "To see the created containers: docker-compose ps\n",
    "We can also see the logs: docker-compose logs\n",
    "And we can also remove the containers: docker-compose rm"
   ]
  },
  {
   "cell_type": "markdown",
   "metadata": {},
   "source": [
    "It's time to practice! Exercise 04-compose.md.\n",
    "\n",
    "This is only a draft, we have created a really simple stack here. But it is possible to make complete infras via docker-compose."
   ]
  }
 ],
 "metadata": {
  "kernelspec": {
   "display_name": "Python 3",
   "language": "python",
   "name": "python3"
  },
  "language_info": {
   "codemirror_mode": {
    "name": "ipython",
    "version": 3
   },
   "file_extension": ".py",
   "mimetype": "text/x-python",
   "name": "python",
   "nbconvert_exporter": "python",
   "pygments_lexer": "ipython3",
   "version": "3.8.5"
  }
 },
 "nbformat": 4,
 "nbformat_minor": 4
}
