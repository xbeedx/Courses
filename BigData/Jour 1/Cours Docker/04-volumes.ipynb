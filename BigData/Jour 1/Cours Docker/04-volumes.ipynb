{
 "cells": [
  {
   "cell_type": "markdown",
   "metadata": {},
   "source": [
    "# Volumes\n",
    "\n",
    "Let's get a little further in the use of volumes. We will discover in this reading the different types of volumes that exists and how to manipulate them.\n",
    "\n",
    "Here is the summary.\n",
    "\n",
    "* Named volume\n",
    "\n",
    "* Host volume\n",
    "\n",
    "* Anonymous volumes\n",
    "\n",
    "* tmpfs\n",
    "\n",
    "By default all files created inside a container are stored on a writable container layer.\n",
    "\n",
    "- The data doesn’t persist when that container no longer exists, and it can be difficult to get the data out of the container if another process needs it.\n",
    "- A container’s writable layer is tightly coupled to the host machine where the container is running. You can’t easily move the data somewhere else.\n",
    "- Writing into a container’s writable layer requires a [storage driver](https://docs.docker.com/storage/storagedriver/) to manage the filesystem. The storage driver provides a union filesystem, using the Linux kernel. This extra abstraction reduces performance as compared to using *data volumes*, which write directly to the host filesystem.\n",
    "\n",
    "## Named volume\n",
    "\n",
    "Created and managed by Docker. You can create a volume explicitly using the `docker volume create` command, or Docker can create a volume during container or service creation. This is the type of volume we used in this course.\n",
    "They are useful to keep the data of a container (mysql) and avoid losing useful data when a container is stopped.\n",
    "\n",
    " We're going to create our first volume:"
   ]
  },
  {
   "cell_type": "code",
   "execution_count": null,
   "metadata": {},
   "outputs": [],
   "source": [
    "%%bash\n",
    "docker volume create firstvolume;"
   ]
  },
  {
   "cell_type": "markdown",
   "metadata": {},
   "source": [
    "You can list the volumes created:"
   ]
  },
  {
   "cell_type": "code",
   "execution_count": null,
   "metadata": {},
   "outputs": [],
   "source": [
    "%%bash\n",
    "docker volumes ls;\n",
    "DRIVER              VOLUME NAME\n",
    "local               firstvolume\n",
    "local               782e6fcc71ea773dbed31b0588197dedd93b5784dbee92bc4c7a74e541fffaf5"
   ]
  },
  {
   "cell_type": "markdown",
   "metadata": {},
   "source": [
    "You probably noticed the presence of volume with an incomprehensible name. These are anymes volumes created by the docker daemon to increase the storage space of the containers. We will come back to this in a section below.\n",
    "\n",
    "You can bind this volume with a container in an interactive shell:"
   ]
  },
  {
   "cell_type": "code",
   "execution_count": null,
   "metadata": {},
   "outputs": [],
   "source": [
    "%%bash\n",
    "docker container run -v firstvolume:/data -it alpine;"
   ]
  },
  {
   "cell_type": "markdown",
   "metadata": {},
   "source": [
    "We will create a file in it to see if it persists after the container is stopped."
   ]
  },
  {
   "cell_type": "code",
   "execution_count": null,
   "metadata": {},
   "outputs": [],
   "source": [
    "%%bash\n",
    "/ # touch /data/file1"
   ]
  },
  {
   "cell_type": "markdown",
   "metadata": {},
   "source": [
    "Let's start another container with this volume to see if this file is persisted on the host."
   ]
  },
  {
   "cell_type": "code",
   "execution_count": null,
   "metadata": {},
   "outputs": [],
   "source": [
    "%%bash\n",
    "docker container run -v firstvolume:/data -it --name container2 alpine sh"
   ]
  },
  {
   "cell_type": "code",
   "execution_count": null,
   "metadata": {},
   "outputs": [],
   "source": [
    "%%bash\n",
    "/ # ls /data\n",
    "file1"
   ]
  },
  {
   "cell_type": "markdown",
   "metadata": {},
   "source": [
    "# Host volume\n",
    "\n",
    "These maps a path from the host into the container with a bind mount. They have the short syntax. This volume is useful to share application source code.\n",
    "\n",
    "Create a file on our host:"
   ]
  },
  {
   "cell_type": "code",
   "execution_count": null,
   "metadata": {},
   "outputs": [],
   "source": [
    "%%bash\n",
    "touch sharedFile"
   ]
  },
  {
   "cell_type": "markdown",
   "metadata": {},
   "source": [
    "Share this file with the container:"
   ]
  },
  {
   "cell_type": "code",
   "execution_count": null,
   "metadata": {},
   "outputs": [],
   "source": [
    "%%bash\n",
    "docker container run -v ${PWD}:/data -it alpine;"
   ]
  },
  {
   "cell_type": "code",
   "execution_count": null,
   "metadata": {},
   "outputs": [],
   "source": [
    "%%bash\n",
    "ls data;\n",
    "sharedFile"
   ]
  },
  {
   "cell_type": "markdown",
   "metadata": {},
   "source": [
    "## Anonymous volume\n",
    "\n",
    "These only have a path inside the container.  They are in the form `/path/in/container` and docker will create a default named volume with a guid as the name.  If you create a container with the `--rm` flag, anonymous volumes will also be deleted automatically.\n",
    "\n",
    "You can use this kind of module to prevent a folder from being written to your host when you share a volume with a container.\n",
    "\n",
    "Let's create two folders :"
   ]
  },
  {
   "cell_type": "code",
   "execution_count": null,
   "metadata": {},
   "outputs": [],
   "source": [
    "%%bash\n",
    "mkdir -p app/dependencies"
   ]
  },
  {
   "cell_type": "markdown",
   "metadata": {},
   "source": [
    "Let's share with a container the app folder, but without sharing the dependencies of folder."
   ]
  },
  {
   "cell_type": "code",
   "execution_count": null,
   "metadata": {},
   "outputs": [],
   "source": [
    "%%bash\n",
    "docker container run -v ${PWD}/app:/app -v /app/dependencies -it alpine;"
   ]
  },
  {
   "cell_type": "markdown",
   "metadata": {},
   "source": [
    "Let's create a file in each folder"
   ]
  },
  {
   "cell_type": "code",
   "execution_count": null,
   "metadata": {},
   "outputs": [],
   "source": [
    "%%bash\n",
    "touch app/index.html;\n",
    "touch app/dependencies/utils.js\n",
    "tree app;\n",
    ".\n",
    "├── dependencies\n",
    "│   └── utils\n",
    "└── index.html"
   ]
  },
  {
   "cell_type": "markdown",
   "metadata": {},
   "source": [
    "Now let's take a look at the result on our host :"
   ]
  },
  {
   "cell_type": "code",
   "execution_count": null,
   "metadata": {},
   "outputs": [],
   "source": [
    "%%bash\n",
    "tree app;\n",
    ".\n",
    "├── dependencies\n",
    "└── index.html"
   ]
  },
  {
   "cell_type": "markdown",
   "metadata": {},
   "source": [
    "This allows not to overwrite on our host files that should not be rewritten as dependencies of a different version.\n",
    "\n",
    "## tmpfs\n",
    "\n",
    "A `tmpfs` mount is not persisted on disk, either on the Docker host or within a container. It can be used by a container during the lifetime of the container, to store non-persistent state or sensitive information. For instance, internally, swarm services use `tmpfs` mounts to mount [secrets](https://docs.docker.com/engine/swarm/secrets/) into a service’s containers."
   ]
  },
  {
   "cell_type": "code",
   "execution_count": null,
   "metadata": {},
   "outputs": [],
   "source": [
    "%%bash\n",
    "docker run -d --name tmptest --tmpfs /app nginx:latest;"
   ]
  },
  {
   "cell_type": "markdown",
   "metadata": {},
   "source": [
    "Do not hesitate to go to see the official [Docker Documentation](https://docs.docker.com/storage/)."
   ]
  }
 ],
 "metadata": {
  "kernelspec": {
   "display_name": "Python 3",
   "language": "python",
   "name": "python3"
  },
  "language_info": {
   "codemirror_mode": {
    "name": "ipython",
    "version": 3
   },
   "file_extension": ".py",
   "mimetype": "text/x-python",
   "name": "python",
   "nbconvert_exporter": "python",
   "pygments_lexer": "ipython3",
   "version": "3.8.5"
  }
 },
 "nbformat": 4,
 "nbformat_minor": 4
}
